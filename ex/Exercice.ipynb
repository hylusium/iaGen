{
 "cells": [
  {
   "cell_type": "markdown",
   "metadata": {},
   "source": [
    "# Étape 1 : Importer et Explorer les Données\n",
    "Télécharger les données, supprimer les colonnes inutiles, renommer les colonnes, convertir les dates, et vérifier les données."
   ]
  },
  {
   "cell_type": "code",
   "execution_count": 4,
   "metadata": {},
   "outputs": [
    {
     "name": "stdout",
     "output_type": "stream",
     "text": [
      "        Date  AveragePrice  Quality1   Quality2  Quality3  Small Bags  \\\n",
      "0 2015-12-27          1.33   1036.74   54454.85     48.16     8603.62   \n",
      "1 2015-12-20          1.35    674.28   44638.81     58.33     9408.07   \n",
      "2 2015-12-13          0.93    794.70  109149.67    130.50     8042.21   \n",
      "3 2015-12-06          1.08   1132.00   71976.41     72.58     5677.40   \n",
      "4 2015-11-29          1.28    941.48   43838.39     75.78     5986.26   \n",
      "\n",
      "   Large Bags  XLarge Bags          type  year  region  \n",
      "0       93.25          0.0  conventional  2015  Albany  \n",
      "1       97.49          0.0  conventional  2015  Albany  \n",
      "2      103.14          0.0  conventional  2015  Albany  \n",
      "3      133.76          0.0  conventional  2015  Albany  \n",
      "4      197.69          0.0  conventional  2015  Albany  \n"
     ]
    }
   ],
   "source": [
    "import pandas as pd\n",
    "import numpy as np\n",
    "from sklearn.model_selection import train_test_split\n",
    "from sklearn.preprocessing import StandardScaler, OneHotEncoder\n",
    "from sklearn.compose import ColumnTransformer\n",
    "from sklearn.pipeline import Pipeline\n",
    "from xgboost import XGBRegressor\n",
    "import pickle\n",
    "\n",
    "# Load the dataset\n",
    "data = pd.read_csv('avocado.csv')\n",
    "\n",
    "# Drop unnecessary columns\n",
    "data = data.drop(columns=['Unnamed: 0', 'Total Volume', 'Total Bags'])\n",
    "\n",
    "# Rename columns\n",
    "data = data.rename(columns={'4046': 'Quality1', '4225': 'Quality2', '4770': 'Quality3'})\n",
    "\n",
    "# Convert dates\n",
    "data['Date'] = pd.to_datetime(data['Date'])\n",
    "\n",
    "# Check for missing values and duplicates\n",
    "data = data.drop_duplicates()\n",
    "\n",
    "print(data.head())\n",
    "\n",
    "# Separate columns\n",
    "numeric_features = ['Quality1', 'Quality2', 'Quality3', 'Small Bags', 'Large Bags', 'XLarge Bags', 'year']\n",
    "categorical_features = ['type', 'region']\n",
    "\n",
    "# Standardize numeric features\n",
    "numeric_transformer = Pipeline(steps=[\n",
    "    ('scaler', StandardScaler())\n",
    "])\n",
    "\n",
    "# Encode categorical features\n",
    "categorical_transformer = Pipeline(steps=[\n",
    "    ('onehot', OneHotEncoder(handle_unknown='ignore'))\n",
    "])\n",
    "\n",
    "# Combine transformations\n",
    "preprocessor = ColumnTransformer(\n",
    "    transformers=[\n",
    "        ('num', numeric_transformer, numeric_features),\n",
    "        ('cat', categorical_transformer, categorical_features)\n",
    "    ])\n",
    "\n",
    "# Create the pipeline\n",
    "model_pipeline = Pipeline(steps=[\n",
    "    ('preprocessor', preprocessor),\n",
    "    ('regressor', XGBRegressor())\n",
    "])\n",
    "\n",
    "# Split the data\n",
    "X = data.drop(columns=['AveragePrice'])\n",
    "y = data['AveragePrice']\n",
    "X_train, X_test, y_train, y_test = train_test_split(X, y, test_size=0.2, random_state=42)\n",
    "\n",
    "# Train the model\n",
    "model_pipeline.fit(X_train, y_train)\n",
    "\n",
    "# Save the model using pickle\n",
    "with open('avocado_model.pkl', 'wb') as f:\n",
    "    pickle.dump(model_pipeline, f)"
   ]
  },
  {
   "cell_type": "code",
   "execution_count": null,
   "metadata": {},
   "outputs": [],
   "source": []
  }
 ],
 "metadata": {
  "kernelspec": {
   "display_name": ".venv",
   "language": "python",
   "name": "python3"
  },
  "language_info": {
   "codemirror_mode": {
    "name": "ipython",
    "version": 3
   },
   "file_extension": ".py",
   "mimetype": "text/x-python",
   "name": "python",
   "nbconvert_exporter": "python",
   "pygments_lexer": "ipython3",
   "version": "3.13.0"
  }
 },
 "nbformat": 4,
 "nbformat_minor": 4
}
